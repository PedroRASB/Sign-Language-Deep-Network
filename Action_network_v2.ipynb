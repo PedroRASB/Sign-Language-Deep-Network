{
 "cells": [
  {
   "cell_type": "code",
   "execution_count": 1,
   "metadata": {},
   "outputs": [
    {
     "name": "stderr",
     "output_type": "stream",
     "text": [
      "/home/pedro/anaconda3/envs/Neurais2/lib/python3.5/site-packages/h5py/__init__.py:36: FutureWarning: Conversion of the second argument of issubdtype from `float` to `np.floating` is deprecated. In future, it will be treated as `np.float64 == np.dtype(float).type`.\n",
      "  from ._conv import register_converters as _register_converters\n",
      "Using TensorFlow backend.\n"
     ]
    }
   ],
   "source": [
    "import keras\n",
    "import csv\n",
    "\n",
    "#creating train labels list and images list: train_labels and train_images\n",
    "with open('sign_mnist_train.csv','r') as dataset_train:\n",
    "    reader=csv.reader(dataset_train)\n",
    "    next(dataset_train) #jump the first line of the csv\n",
    "    train=list(reader)\n",
    "    #print(\"Number of train exemples:\",len(train),\"\\n\")\n",
    "    a=len(train)\n",
    "    #print(\"Size of one exemple, with label:\",len(train[1]),\"\\n\")\n",
    "    b=len(train[1])\n",
    "    train_labels=[]\n",
    "    train_images=[]\n",
    "    for i in range(0,a):\n",
    "        train_labels.append(train[i][0])\n",
    "    #print(\"train[3]:\",train[3],\"\\n\")\n",
    "    #print(\"Label of exemple 3:\",train_labels[3],\"\\n\")\n",
    "    for i in range(0,a):\n",
    "        train_images.append(train[i][1:b])\n",
    "    #print(\"Exemple 3 Image:\",train_images[3])\n",
    "\n",
    "#creating test labels list and images list: test_labels and test_images\n",
    "with open('sign_mnist_test.csv','r') as dataset_test:\n",
    "    reader=csv.reader(dataset_test)\n",
    "    next(dataset_test)\n",
    "    test=list(reader)\n",
    "    #print(\"Number of train exemples:\",len(test),\"\\n\")\n",
    "    a=len(test)\n",
    "    #print(\"Size of one exemple, with label:\",len(test[1]),\"\\n\")\n",
    "    b=len(test[1])\n",
    "    test_labels=[]\n",
    "    test_images=[]\n",
    "    for i in range(0,a):\n",
    "        test_labels.append(test[i][0])\n",
    "    #print(\"test[3]:\",test[3],\"\\n\")\n",
    "    #print(\"Label of test exemple 3:\",test_labels[3],\"\\n\")\n",
    "    for i in range(0,a):\n",
    "        test_images.append(test[i][1:b])\n",
    "    #print(\"Test exemple 3 Image:\",test_images[3])"
   ]
  },
  {
   "cell_type": "code",
   "execution_count": 2,
   "metadata": {},
   "outputs": [],
   "source": [
    "import random\n",
    "i=random.randint(0,7171)"
   ]
  },
  {
   "cell_type": "code",
   "execution_count": 3,
   "metadata": {},
   "outputs": [
    {
     "name": "stdout",
     "output_type": "stream",
     "text": [
      "8.0\n"
     ]
    }
   ],
   "source": [
    "#convert data to np array and float\n",
    "import numpy as np\n",
    "\n",
    "test_img=np.array(test_images[i])\n",
    "test_img=test_img.astype(np.float)\n",
    "\n",
    "\n",
    "\n",
    "test_l=np.array(test_labels[i])\n",
    "test_l=test_l.astype(np.float)\n",
    "print(test_l)\n",
    "\n",
    "\n",
    "\n",
    "\n",
    "#train_img=np.array(train_images)\n",
    "#train_img=train_img.astype(np.float)\n",
    "\n",
    "#test_img=np.array(test_images)\n",
    "#test_img=test_img.astype(np.float)\n",
    "\n",
    "#train_l=np.array(train_labels)\n",
    "#train_l=train_l.astype(np.float)\n",
    "\n",
    "#test_l=np.array(test_labels)\n",
    "#test_l=test_l.astype(np.float)"
   ]
  },
  {
   "cell_type": "code",
   "execution_count": 4,
   "metadata": {},
   "outputs": [],
   "source": [
    "#reshapes data to list of 2D images\n",
    "#train_img=train_img.reshape((28,28))\n",
    "test_img=test_img.reshape((28,28))\n"
   ]
  },
  {
   "cell_type": "code",
   "execution_count": 5,
   "metadata": {},
   "outputs": [],
   "source": [
    "image=test_img"
   ]
  },
  {
   "cell_type": "code",
   "execution_count": 6,
   "metadata": {},
   "outputs": [
    {
     "data": {
      "text/plain": [
       "array([[132., 137., 144., 147., 150., 151., 157., 162., 163., 164., 165.,\n",
       "        166., 167., 169., 168., 169., 169., 170., 170., 170., 170., 170.,\n",
       "        170., 168., 168., 167., 166., 166.],\n",
       "       [134., 140., 148., 153., 151., 168., 161., 158., 168., 168., 168.,\n",
       "        169., 171., 171., 171., 171., 171., 171., 171., 171., 172., 171.,\n",
       "        170., 169., 169., 167., 166., 166.],\n",
       "       [138., 145., 153., 157., 154., 193., 153., 131., 177., 172., 174.,\n",
       "        174., 175., 175., 175., 175., 176., 176., 175., 174., 173., 174.,\n",
       "        173., 172., 171., 170., 168., 167.],\n",
       "       [141., 149., 156., 161., 160., 207., 149., 115., 183., 178., 180.,\n",
       "        180., 181., 181., 180., 180., 180., 181., 180., 178., 178., 178.,\n",
       "        176., 176., 175., 173., 171., 170.],\n",
       "       [145., 153., 159., 165., 165., 222., 148., 114., 189., 184., 186.,\n",
       "        187., 186., 186., 186., 188., 188., 183., 184., 187., 183., 181.,\n",
       "        182., 181., 180., 177., 176., 173.],\n",
       "       [149., 156., 163., 169., 171., 219., 144., 119., 193., 189., 191.,\n",
       "        191., 196., 193., 193., 183., 182., 202., 189., 159., 186., 188.,\n",
       "        186., 186., 184., 181., 180., 179.],\n",
       "       [153., 161., 168., 173., 175., 223., 157., 119., 196., 194., 195.,\n",
       "        197., 167., 181., 226., 174., 119., 181., 216., 137., 138., 196.,\n",
       "        191., 192., 189., 186., 185., 183.],\n",
       "       [157., 165., 171., 176., 181., 227., 165., 127., 193., 197., 213.,\n",
       "        234., 169., 159., 217., 190., 140., 156., 189., 165., 120., 173.,\n",
       "        203., 195., 195., 191., 190., 188.],\n",
       "       [162., 169., 176., 181., 185., 227., 191., 156., 182., 206., 235.,\n",
       "        242., 229., 205., 176., 175., 189., 215., 154., 112., 117., 145.,\n",
       "        209., 198., 199., 197., 195., 193.],\n",
       "       [165., 173., 181., 186., 186., 223., 198., 183., 197., 221., 220.,\n",
       "        222., 236., 185., 180., 185., 196., 195., 164., 114.,  79., 123.,\n",
       "        212., 201., 202., 201., 199., 196.],\n",
       "       [168., 176., 184., 190., 189., 220., 209., 194., 217., 224., 198.,\n",
       "        166., 235., 193., 173., 184., 164., 156., 177., 137.,  74., 134.,\n",
       "        218., 204., 205., 204., 202., 201.],\n",
       "       [170., 178., 186., 192., 192., 220., 225., 190., 210., 212., 209.,\n",
       "        160., 187., 212., 139., 117., 112., 166., 192., 150.,  95., 173.,\n",
       "        218., 209., 208., 206., 205., 204.],\n",
       "       [174., 183., 189., 195., 195., 224., 237., 160., 193., 193., 172.,\n",
       "        168., 165., 206., 143.,  82.,  75., 211., 208., 169., 109., 161.,\n",
       "        224., 211., 212., 210., 207., 207.],\n",
       "       [178., 186., 192., 197., 198., 223., 240., 171., 141., 186., 148.,\n",
       "        150., 159., 187., 175., 123.,  89., 191., 232., 186., 125., 107.,\n",
       "        217., 217., 215., 213., 211., 209.],\n",
       "       [179., 188., 194., 199., 201., 222., 243., 200., 131., 148., 166.,\n",
       "        144., 175., 194., 184., 126., 197., 225., 223., 193., 138.,  89.,\n",
       "        183., 229., 217., 216., 214., 213.],\n",
       "       [182., 189., 196., 201., 203., 220., 252., 215., 154., 127., 175.,\n",
       "        146., 206., 224., 191., 186., 240., 229., 194., 163., 134.,  97.,\n",
       "        183., 233., 220., 219., 216., 214.],\n",
       "       [185., 191., 198., 205., 208., 221., 253., 223., 179., 134., 148.,\n",
       "        158., 201., 233., 230., 246., 233., 206., 183., 142., 119., 107.,\n",
       "        214., 227., 223., 224., 229., 226.],\n",
       "       [187., 195., 200., 207., 210., 224., 253., 235., 198., 154., 143.,\n",
       "        161., 193., 240., 239., 245., 227., 192., 161., 135.,  94., 144.,\n",
       "        243., 235., 234., 217., 172., 121.],\n",
       "       [187., 196., 203., 209., 211., 224., 253., 242., 208., 176., 157.,\n",
       "        165., 183., 238., 244., 235., 212., 179., 149., 119.,  91., 203.,\n",
       "        214., 166., 130.,  86.,  60.,  56.],\n",
       "       [189., 197., 204., 209., 212., 223., 248., 242., 218., 188., 179.,\n",
       "        164., 179., 222., 244., 227., 195., 163., 137., 110.,  93., 114.,\n",
       "         74.,  56.,  59.,  67.,  67.,  64.],\n",
       "       [190., 199., 205., 210., 214., 220., 238., 242., 227., 198., 199.,\n",
       "        168., 167., 203., 233., 220., 185., 151., 129., 102.,  74.,  51.,\n",
       "         55.,  59.,  54.,  69.,  72.,  58.],\n",
       "       [191., 200., 206., 212., 217., 218., 228., 242., 232., 207., 202.,\n",
       "        177., 159., 196., 212., 212., 175., 142., 122.,  95.,  62.,  52.,\n",
       "         51.,  66.,  49.,  55.,  70.,  69.],\n",
       "       [192., 200., 206., 212., 217., 221., 220., 236., 229., 213., 198.,\n",
       "        176., 141., 187., 191., 197., 160., 129., 112.,  75.,  60.,  53.,\n",
       "         37.,  58.,  62.,  47.,  56.,  66.],\n",
       "       [191., 199., 205., 210., 216., 222., 214., 230., 232., 213., 194.,\n",
       "        168., 139., 157., 186., 170., 148., 121., 102.,  43.,  44.,  67.,\n",
       "         42.,  43.,  64.,  56.,  44.,  54.],\n",
       "       [192., 200., 206., 211., 215., 222., 216., 229., 244., 222., 195.,\n",
       "        169., 143., 140., 173., 160., 136., 114.,  86.,  33.,  27.,  57.,\n",
       "         60.,  38.,  51.,  61.,  49.,  48.],\n",
       "       [193., 200., 206., 211., 216., 222., 218., 229., 236., 213., 184.,\n",
       "        168., 142., 137., 152., 151., 128.,  99.,  71.,  52.,  18.,  39.,\n",
       "         63.,  51.,  37.,  57.,  57.,  46.],\n",
       "       [195., 201., 208., 212., 215., 225., 209., 229., 231., 184., 185.,\n",
       "        174., 149., 135., 139., 145., 125.,  75.,  52.,  66.,  25.,  25.,\n",
       "         53.,  61.,  43.,  44.,  56.,  51.],\n",
       "       [188., 196., 203., 209., 213., 228., 161., 228., 234., 194., 203.,\n",
       "        184., 155., 131., 133., 139., 117.,  51.,  35.,  66.,  38.,  16.,\n",
       "         41.,  60.,  53.,  43.,  46.,  55.]])"
      ]
     },
     "execution_count": 6,
     "metadata": {},
     "output_type": "execute_result"
    }
   ],
   "source": [
    "image"
   ]
  },
  {
   "cell_type": "code",
   "execution_count": 7,
   "metadata": {},
   "outputs": [
    {
     "name": "stdout",
     "output_type": "stream",
     "text": [
      "AxesImage(80,52.8;496x369.6)\n"
     ]
    }
   ],
   "source": [
    "import matplotlib.pyplot as plt\n",
    "print(plt.imshow(image, cmap='gray'))"
   ]
  },
  {
   "cell_type": "code",
   "execution_count": 8,
   "metadata": {},
   "outputs": [],
   "source": [
    "## Normalizando os dados\n",
    "\n",
    "#train_img = train_img.astype('float32') / 255\n",
    "test_img = test_img.astype('float32') / 255"
   ]
  },
  {
   "cell_type": "code",
   "execution_count": 9,
   "metadata": {},
   "outputs": [
    {
     "name": "stdout",
     "output_type": "stream",
     "text": [
      "input shape: (28, 28, 1)\n"
     ]
    },
    {
     "data": {
      "text/plain": [
       "(28, 28, 1)"
      ]
     },
     "execution_count": 9,
     "metadata": {},
     "output_type": "execute_result"
    }
   ],
   "source": [
    "### Entrada da rede convolucional\n",
    "\n",
    "from keras import backend as K\n",
    "\n",
    "img_rows = 28\n",
    "img_cols = 28\n",
    "\n",
    "if K.image_data_format() == 'channels_first':\n",
    "    #train_img = train_img.reshape(train_img.shape[0], 1, img_rows, img_cols)\n",
    "    test_img = test_img.reshape(1, img_rows, img_cols)\n",
    "    input_shape = (1, img_rows, img_cols)\n",
    "else:\n",
    "    #train_img = train_img.reshape(train_img.shape[0], img_rows, img_cols, 1)\n",
    "    test_img = test_img.reshape(img_rows, img_cols, 1)\n",
    "    input_shape = (img_rows, img_cols, 1)\n",
    "\n",
    "print('input shape:', input_shape)\n",
    "\n",
    "np.shape(test_img)"
   ]
  },
  {
   "cell_type": "code",
   "execution_count": 10,
   "metadata": {},
   "outputs": [],
   "source": [
    "#atualizando entrada para entrada normalizada\n",
    "image_norm=test_img"
   ]
  },
  {
   "cell_type": "code",
   "execution_count": 11,
   "metadata": {},
   "outputs": [],
   "source": [
    "#image_norm"
   ]
  },
  {
   "cell_type": "markdown",
   "metadata": {},
   "source": [
    "## Importando rede"
   ]
  },
  {
   "cell_type": "code",
   "execution_count": 12,
   "metadata": {},
   "outputs": [],
   "source": [
    "import h5py"
   ]
  },
  {
   "cell_type": "code",
   "execution_count": 13,
   "metadata": {},
   "outputs": [],
   "source": [
    "network=keras.models.load_model('large_network_2.h5')"
   ]
  },
  {
   "cell_type": "code",
   "execution_count": 14,
   "metadata": {},
   "outputs": [
    {
     "name": "stdout",
     "output_type": "stream",
     "text": [
      "_________________________________________________________________\n",
      "Layer (type)                 Output Shape              Param #   \n",
      "=================================================================\n",
      "conv2d_92 (Conv2D)           (None, 26, 26, 64)        640       \n",
      "_________________________________________________________________\n",
      "conv2d_93 (Conv2D)           (None, 26, 26, 64)        36928     \n",
      "_________________________________________________________________\n",
      "conv2d_94 (Conv2D)           (None, 26, 26, 128)       73856     \n",
      "_________________________________________________________________\n",
      "conv2d_95 (Conv2D)           (None, 26, 26, 128)       147584    \n",
      "_________________________________________________________________\n",
      "conv2d_96 (Conv2D)           (None, 26, 26, 256)       295168    \n",
      "_________________________________________________________________\n",
      "conv2d_97 (Conv2D)           (None, 26, 26, 256)       590080    \n",
      "_________________________________________________________________\n",
      "conv2d_98 (Conv2D)           (None, 26, 26, 256)       590080    \n",
      "_________________________________________________________________\n",
      "max_pooling2d_22 (MaxPooling (None, 13, 13, 256)       0         \n",
      "_________________________________________________________________\n",
      "conv2d_99 (Conv2D)           (None, 13, 13, 512)       1180160   \n",
      "_________________________________________________________________\n",
      "conv2d_100 (Conv2D)          (None, 13, 13, 512)       2359808   \n",
      "_________________________________________________________________\n",
      "conv2d_101 (Conv2D)          (None, 13, 13, 512)       2359808   \n",
      "_________________________________________________________________\n",
      "conv2d_102 (Conv2D)          (None, 13, 13, 512)       2359808   \n",
      "_________________________________________________________________\n",
      "conv2d_103 (Conv2D)          (None, 13, 13, 512)       2359808   \n",
      "_________________________________________________________________\n",
      "conv2d_104 (Conv2D)          (None, 13, 13, 512)       2359808   \n",
      "_________________________________________________________________\n",
      "max_pooling2d_23 (MaxPooling (None, 6, 6, 512)         0         \n",
      "_________________________________________________________________\n",
      "dropout_13 (Dropout)         (None, 6, 6, 512)         0         \n",
      "_________________________________________________________________\n",
      "flatten_8 (Flatten)          (None, 18432)             0         \n",
      "_________________________________________________________________\n",
      "dense_22 (Dense)             (None, 256)               4718848   \n",
      "_________________________________________________________________\n",
      "dense_23 (Dense)             (None, 256)               65792     \n",
      "_________________________________________________________________\n",
      "dropout_14 (Dropout)         (None, 256)               0         \n",
      "_________________________________________________________________\n",
      "dense_24 (Dense)             (None, 25)                6425      \n",
      "=================================================================\n",
      "Total params: 19,504,601\n",
      "Trainable params: 19,504,601\n",
      "Non-trainable params: 0\n",
      "_________________________________________________________________\n"
     ]
    }
   ],
   "source": [
    "network.summary()"
   ]
  },
  {
   "cell_type": "code",
   "execution_count": 15,
   "metadata": {},
   "outputs": [],
   "source": [
    "#test_loss, test_acc = network.evaluate(test_img, test_l)    #check do modelo"
   ]
  },
  {
   "cell_type": "code",
   "execution_count": 16,
   "metadata": {},
   "outputs": [],
   "source": [
    "#print('test accuracy:', test_acc)"
   ]
  },
  {
   "cell_type": "markdown",
   "metadata": {},
   "source": [
    "## Execution"
   ]
  },
  {
   "cell_type": "code",
   "execution_count": 17,
   "metadata": {},
   "outputs": [],
   "source": [
    "import tensorflow as tf\n",
    "result=network.predict(np.array([image_norm,]))"
   ]
  },
  {
   "cell_type": "code",
   "execution_count": 18,
   "metadata": {},
   "outputs": [
    {
     "name": "stdout",
     "output_type": "stream",
     "text": [
      "[[1.6446596e-12 5.9251309e-20 8.0647383e-23 2.8780987e-13 1.1738894e-18\n",
      "  1.8383729e-19 6.8184084e-19 5.9152255e-17 1.0000000e+00 2.2655486e-24\n",
      "  2.7514323e-18 2.1612028e-21 1.1582020e-13 1.9740605e-21 1.4146985e-22\n",
      "  1.7611817e-18 2.6651356e-23 1.6852671e-13 6.0620287e-10 9.1126506e-22\n",
      "  6.0461575e-23 4.7603071e-19 1.2809776e-15 3.7317372e-18 3.5532418e-15]]\n"
     ]
    }
   ],
   "source": [
    "print(result)"
   ]
  },
  {
   "cell_type": "code",
   "execution_count": 19,
   "metadata": {},
   "outputs": [],
   "source": [
    "result=np.round(result,1)"
   ]
  },
  {
   "cell_type": "code",
   "execution_count": 20,
   "metadata": {},
   "outputs": [
    {
     "name": "stdout",
     "output_type": "stream",
     "text": [
      "[[0. 0. 0. 0. 0. 0. 0. 0. 1. 0. 0. 0. 0. 0. 0. 0. 0. 0. 0. 0. 0. 0. 0. 0.\n",
      "  0.]]\n"
     ]
    }
   ],
   "source": [
    "print(result)"
   ]
  },
  {
   "cell_type": "code",
   "execution_count": 21,
   "metadata": {},
   "outputs": [
    {
     "name": "stdout",
     "output_type": "stream",
     "text": [
      "<class 'numpy.ndarray'>\n"
     ]
    },
    {
     "data": {
      "text/plain": [
       "8"
      ]
     },
     "execution_count": 21,
     "metadata": {},
     "output_type": "execute_result"
    }
   ],
   "source": [
    "#from keras.utils import to_categorical\n",
    "\n",
    "#train_l = to_categorical(train_l)\n",
    "print(type(test_l))\n",
    "test_l=test_l.astype('int')\n",
    "test_l.item(0)"
   ]
  },
  {
   "cell_type": "code",
   "execution_count": 22,
   "metadata": {},
   "outputs": [],
   "source": [
    "for j in range(25):\n",
    "    if result.item(j)==0:\n",
    "        continue\n",
    "    else:\n",
    "        result_number=j\n",
    "        break\n",
    "list_of_classes=['a','b','c','d','e','f','g','h','i','j','k','l','m','n','o','p','q','r','s','t','u','v','w','x','y']\n",
    "result_class=list_of_classes[result_number]       "
   ]
  },
  {
   "cell_type": "code",
   "execution_count": 23,
   "metadata": {},
   "outputs": [
    {
     "name": "stdout",
     "output_type": "stream",
     "text": [
      "\n",
      "\n",
      "\n",
      "test exemple selected at random: 2570\n",
      "label: 8\n",
      "label class: i\n",
      "a=0,b=1,c=2,d=3,e=4,f=5,g=6,h=7,i=8,j=9,k=10,l=11,m=12,n=13,o=14,p=15,q=16,r=17,s=18,t=19,u=20,v=21,w=22,x=23,y=24\n"
     ]
    }
   ],
   "source": [
    "print(\"\\n\\n\")\n",
    "print(\"test exemple selected at random:\", i)\n",
    "print(\"label:\", test_l)\n",
    "list_of_classes=['a','b','c','d','e','f','g','h','i','j','k','l','m','n','o','p','q','r','s','t','u','v','w','x','y']\n",
    "print(\"label class:\",list_of_classes[test_l.item(0)])\n",
    "print(\"a=0,b=1,c=2,d=3,e=4,f=5,g=6,h=7,i=8,j=9,k=10,l=11,m=12,n=13,o=14,p=15,q=16,r=17,s=18,t=19,u=20,v=21,w=22,x=23,y=24\")"
   ]
  },
  {
   "cell_type": "code",
   "execution_count": 24,
   "metadata": {},
   "outputs": [
    {
     "name": "stdout",
     "output_type": "stream",
     "text": [
      "predicted label: 8\n",
      "predicted class: i\n"
     ]
    }
   ],
   "source": [
    "print(\"predicted label:\", result_number)\n",
    "print(\"predicted class:\", result_class)"
   ]
  }
 ],
 "metadata": {
  "kernelspec": {
   "display_name": "Python [conda env:Neurais2]",
   "language": "python",
   "name": "conda-env-Neurais2-py"
  },
  "language_info": {
   "codemirror_mode": {
    "name": "ipython",
    "version": 3
   },
   "file_extension": ".py",
   "mimetype": "text/x-python",
   "name": "python",
   "nbconvert_exporter": "python",
   "pygments_lexer": "ipython3",
   "version": "3.5.5"
  }
 },
 "nbformat": 4,
 "nbformat_minor": 2
}
